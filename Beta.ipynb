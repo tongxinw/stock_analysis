{
 "cells": [
  {
   "cell_type": "code",
   "execution_count": null,
   "metadata": {},
   "outputs": [],
   "source": [
    "# https://blog.quantinsti.com/asset-beta-market-beta-python/\n",
    "\n",
    "import numpy as np\n",
    "import matplotlib.pyplot as plt\n",
    "import pandas as pd\n",
    "import datetime\n",
    "\n",
    "from pandas_datareader import data as pdr\n",
    "import yfinance as yf\n",
    "\n",
    "import statsmodels.api as sm\n",
    "from statsmodels import regression"
   ]
  },
  {
   "cell_type": "code",
   "execution_count": null,
   "metadata": {},
   "outputs": [],
   "source": [
    "df_full = pd.read_csv('data/prices-split-adjusted.csv')\n",
    "yf.pdr_override()\n",
    "# 这堆stocks网上抄的code run不出来 生气\n",
    "notoklist = [\"ARNC\",\"APC\",\"BBT\",\"BCR\",\"BHI\",\"CAH\",\"CAT\",\"CBG\",\"CMCSA\",\n",
    "             \"COH\",\"DOW\",\"DPS\",\"FOX\",\"FOXA\",\"GGP\",\"GPS\",\"HCN\",\"HCP\",\n",
    "            \"HRS\",\"IR\",\"LLL\",\"LLTC\",\"LUK\",\"LVLT\",\"MJN\",\"PCLN\",\"PX\",\"RAI\",\n",
    "            \"RHT\",\"RTN\",\"SE\",\"SPLS\",\"SYMC\",\"TMK\",\"TSO\",\"TSS\",\"WFM\",\n",
    "            \"WYN\",\"YHOO\",\"DLPH\",\"KORS\"]"
   ]
  },
  {
   "cell_type": "code",
   "execution_count": null,
   "metadata": {},
   "outputs": [],
   "source": [
    "def linreg(x,y):\n",
    "    x = sm.add_constant(x)\n",
    "    model = regression.linear_model.OLS(y,x).fit()\n",
    "    \n",
    "    x = x[:,1]\n",
    "    return model.params[0], model.params[1]\n",
    "def getBeta(X,Y):\n",
    "    alpha, beta = linreg(X,Y)\n",
    "#     print('alpha: ' + str(alpha))\n",
    "#     print('beta: ' + str(beta))\n",
    "    return beta\n",
    "def get_data_stock(stock):\n",
    "    df = df_full[(df_full['symbol'] == stock)][['date','close']]\n",
    "    df = df[df['date'] >= \"2016-01-01\"]\n",
    "    df = df[df['date'] <= \"2016-12-31\"]\n",
    "    df = df.rename(columns={'close':'Close'})\n",
    "    df.set_index('date',inplace=True)\n",
    "    return df"
   ]
  },
  {
   "cell_type": "code",
   "execution_count": null,
   "metadata": {},
   "outputs": [],
   "source": [
    "# start = \"2016-01-01\", end=\"2016-12-30\"\n",
    "beta_list = []\n",
    "def chartnbeta(stock,start,end):\n",
    "    if stock in notoklist:\n",
    "        df1 = get_data_stock(stock)\n",
    "    else:\n",
    "        df1 = pdr.get_data_yahoo(stock, start=start, end = end)\n",
    "    df2 = pdr.get_data_yahoo(\"SPY\", start=start, end = end)\n",
    "    df2.drop(columns='Close',inplace=True)\n",
    "    df2 = df2.rename(columns={'Adj Close':'Close'})\n",
    "    return_aapl = df1.Close.pct_change()[1:]\n",
    "    return_spy = df2.Close.pct_change()[1:]\n",
    "    \n",
    "    X = return_spy.values\n",
    "    Y = return_aapl.values\n",
    "    \n",
    "    beta = getBeta(X,Y)\n",
    "    beta_list.append([stock,beta])"
   ]
  },
  {
   "cell_type": "code",
   "execution_count": null,
   "metadata": {
    "scrolled": true
   },
   "outputs": [],
   "source": [
    "stocks = df_full['symbol'].unique()\n",
    "for stock in stocks:\n",
    "    chartnbeta(stock,start = \"2016-01-01\", end=\"2016-12-31\")\n",
    "print('DONE!')"
   ]
  },
  {
   "cell_type": "code",
   "execution_count": null,
   "metadata": {},
   "outputs": [],
   "source": [
    "beta_list"
   ]
  },
  {
   "cell_type": "code",
   "execution_count": null,
   "metadata": {},
   "outputs": [],
   "source": [
    "# FTV\n",
    "a = df_full[df_full['symbol'] == \"FTV\"]\n",
    "a = a[a['date'] >= \"2016-01-01\"]\n",
    "a = a[a['date'] <= \"2016-12-31\"]\n",
    "a = a.rename(columns={'close':'Close'})\n",
    "a.set_index('date',inplace=True)\n",
    "df1 = a\n",
    "df2 = pdr.get_data_yahoo(\"SPY\", start=\"2016-07-05\", end = \"2016-12-31\")\n",
    "df2.drop(columns='Close',inplace=True)\n",
    "df2 = df2.rename(columns={'Adj Close':'Close'})\n",
    "return_aapl = df1.Close.pct_change()[1:]\n",
    "return_spy = df2.Close.pct_change()[1:]\n",
    "    \n",
    "X = return_spy.values\n",
    "Y = return_aapl.values\n",
    "    \n",
    "beta = getBeta(X,Y)\n",
    "print([\"FTV\",beta])"
   ]
  },
  {
   "cell_type": "code",
   "execution_count": null,
   "metadata": {},
   "outputs": [],
   "source": [
    "df = pd.DataFrame(beta_list,columns = ['symbol','beta'])"
   ]
  },
  {
   "cell_type": "code",
   "execution_count": null,
   "metadata": {},
   "outputs": [],
   "source": [
    "df = df.append({'symbol':'FTV','beta':1.0973156807470907},ignore_index=True)"
   ]
  },
  {
   "cell_type": "code",
   "execution_count": null,
   "metadata": {},
   "outputs": [],
   "source": [
    "df.to_csv('2016_beta.csv',index=False)"
   ]
  }
 ],
 "metadata": {
  "kernelspec": {
   "display_name": "Python 3",
   "language": "python",
   "name": "python3"
  },
  "language_info": {
   "codemirror_mode": {
    "name": "ipython",
    "version": 3
   },
   "file_extension": ".py",
   "mimetype": "text/x-python",
   "name": "python",
   "nbconvert_exporter": "python",
   "pygments_lexer": "ipython3",
   "version": "3.7.6"
  }
 },
 "nbformat": 4,
 "nbformat_minor": 4
}
